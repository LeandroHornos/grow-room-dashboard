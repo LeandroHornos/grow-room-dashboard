{
 "cells": [
  {
   "cell_type": "markdown",
   "id": "dbfa2143-d02a-476c-93e6-c302ec1c8259",
   "metadata": {},
   "source": [
    "# GROW ROOM DASHBOARD"
   ]
  },
  {
   "cell_type": "code",
   "execution_count": 1,
   "id": "c2f60223-7b4c-4310-ba97-9d763d54c86f",
   "metadata": {
    "tags": []
   },
   "outputs": [],
   "source": [
    "import pandas as pd\n",
    "\n",
    "from dash import Dash, html"
   ]
  },
  {
   "cell_type": "code",
   "execution_count": 2,
   "id": "ff19ba0c-0d10-49bd-b384-671750864d8b",
   "metadata": {},
   "outputs": [],
   "source": [
    "path = './data'\n",
    "data = pd.read_csv(f'{path}/sample_greenhouse_data.csv', sep=';')"
   ]
  },
  {
   "cell_type": "code",
   "execution_count": 3,
   "id": "aed82799-57e7-4a6b-ade0-680e1d4b939c",
   "metadata": {
    "tags": []
   },
   "outputs": [
    {
     "data": {
      "text/html": [
       "<div>\n",
       "<style scoped>\n",
       "    .dataframe tbody tr th:only-of-type {\n",
       "        vertical-align: middle;\n",
       "    }\n",
       "\n",
       "    .dataframe tbody tr th {\n",
       "        vertical-align: top;\n",
       "    }\n",
       "\n",
       "    .dataframe thead th {\n",
       "        text-align: right;\n",
       "    }\n",
       "</style>\n",
       "<table border=\"1\" class=\"dataframe\">\n",
       "  <thead>\n",
       "    <tr style=\"text-align: right;\">\n",
       "      <th></th>\n",
       "      <th>id</th>\n",
       "      <th>greenhous_temperature_celsius</th>\n",
       "      <th>greenhouse_humidity_percentage</th>\n",
       "      <th>greenhouse_illuminance_lux</th>\n",
       "      <th>online_temperature_celsius</th>\n",
       "      <th>online_humidity_percentage</th>\n",
       "      <th>greenhouse_total_volatile_organic_compounds_ppb</th>\n",
       "      <th>greenhouse_equivalent_co2_ppm</th>\n",
       "      <th>created</th>\n",
       "    </tr>\n",
       "  </thead>\n",
       "  <tbody>\n",
       "    <tr>\n",
       "      <th>0</th>\n",
       "      <td>361496</td>\n",
       "      <td>13,22325653500027</td>\n",
       "      <td>68,05557590060764</td>\n",
       "      <td>0</td>\n",
       "      <td>7,300000190734863</td>\n",
       "      <td>89.0</td>\n",
       "      <td>370</td>\n",
       "      <td>1080,4444444444443</td>\n",
       "      <td>2021-03-03 20:10:04</td>\n",
       "    </tr>\n",
       "  </tbody>\n",
       "</table>\n",
       "</div>"
      ],
      "text/plain": [
       "       id greenhous_temperature_celsius greenhouse_humidity_percentage  \\\n",
       "0  361496             13,22325653500027              68,05557590060764   \n",
       "\n",
       "  greenhouse_illuminance_lux online_temperature_celsius  \\\n",
       "0                          0          7,300000190734863   \n",
       "\n",
       "   online_humidity_percentage greenhouse_total_volatile_organic_compounds_ppb  \\\n",
       "0                        89.0                                             370   \n",
       "\n",
       "  greenhouse_equivalent_co2_ppm              created  \n",
       "0            1080,4444444444443  2021-03-03 20:10:04  "
      ]
     },
     "execution_count": 3,
     "metadata": {},
     "output_type": "execute_result"
    }
   ],
   "source": [
    "data.head(1)"
   ]
  },
  {
   "cell_type": "code",
   "execution_count": 4,
   "id": "089d9920-12b9-4129-add7-fab187706ab8",
   "metadata": {
    "tags": []
   },
   "outputs": [],
   "source": [
    "data.rename(columns=lambda x: x.replace('_', ' '), inplace=True)\n",
    "# Data wrangling\n",
    "data = data.map(lambda x: str(x).replace(',', '.') if ',' in str(x) else x)\n",
    "data['datetime'] = pd.to_datetime(data['created'])\n",
    "data = data.drop('created', axis=1)"
   ]
  },
  {
   "cell_type": "code",
   "execution_count": 5,
   "id": "2bde79b4-6791-42b8-8a4d-2de8a7fcee50",
   "metadata": {
    "tags": []
   },
   "outputs": [
    {
     "data": {
      "text/html": [
       "<div>\n",
       "<style scoped>\n",
       "    .dataframe tbody tr th:only-of-type {\n",
       "        vertical-align: middle;\n",
       "    }\n",
       "\n",
       "    .dataframe tbody tr th {\n",
       "        vertical-align: top;\n",
       "    }\n",
       "\n",
       "    .dataframe thead th {\n",
       "        text-align: right;\n",
       "    }\n",
       "</style>\n",
       "<table border=\"1\" class=\"dataframe\">\n",
       "  <thead>\n",
       "    <tr style=\"text-align: right;\">\n",
       "      <th></th>\n",
       "      <th>col</th>\n",
       "      <th>dtype</th>\n",
       "    </tr>\n",
       "  </thead>\n",
       "  <tbody>\n",
       "    <tr>\n",
       "      <th>0</th>\n",
       "      <td>id</td>\n",
       "      <td>int64</td>\n",
       "    </tr>\n",
       "    <tr>\n",
       "      <th>1</th>\n",
       "      <td>greenhous temperature celsius</td>\n",
       "      <td>object</td>\n",
       "    </tr>\n",
       "    <tr>\n",
       "      <th>2</th>\n",
       "      <td>greenhouse humidity percentage</td>\n",
       "      <td>object</td>\n",
       "    </tr>\n",
       "    <tr>\n",
       "      <th>3</th>\n",
       "      <td>greenhouse illuminance lux</td>\n",
       "      <td>object</td>\n",
       "    </tr>\n",
       "    <tr>\n",
       "      <th>4</th>\n",
       "      <td>online temperature celsius</td>\n",
       "      <td>object</td>\n",
       "    </tr>\n",
       "    <tr>\n",
       "      <th>5</th>\n",
       "      <td>online humidity percentage</td>\n",
       "      <td>float64</td>\n",
       "    </tr>\n",
       "    <tr>\n",
       "      <th>6</th>\n",
       "      <td>greenhouse total volatile organic compounds ppb</td>\n",
       "      <td>object</td>\n",
       "    </tr>\n",
       "    <tr>\n",
       "      <th>7</th>\n",
       "      <td>greenhouse equivalent co2 ppm</td>\n",
       "      <td>object</td>\n",
       "    </tr>\n",
       "    <tr>\n",
       "      <th>8</th>\n",
       "      <td>datetime</td>\n",
       "      <td>datetime64[ns]</td>\n",
       "    </tr>\n",
       "  </tbody>\n",
       "</table>\n",
       "</div>"
      ],
      "text/plain": [
       "                                               col           dtype\n",
       "0                                               id           int64\n",
       "1                    greenhous temperature celsius          object\n",
       "2                   greenhouse humidity percentage          object\n",
       "3                       greenhouse illuminance lux          object\n",
       "4                       online temperature celsius          object\n",
       "5                       online humidity percentage         float64\n",
       "6  greenhouse total volatile organic compounds ppb          object\n",
       "7                    greenhouse equivalent co2 ppm          object\n",
       "8                                         datetime  datetime64[ns]"
      ]
     },
     "execution_count": 5,
     "metadata": {},
     "output_type": "execute_result"
    }
   ],
   "source": [
    "cols_to_convert = []\n",
    "dtypes = {'col':[],'dtype':[]}\n",
    "for col in data.columns:\n",
    "    dtype = data[col].dtype\n",
    "    dtypes['col'].append(col)\n",
    "    dtypes['dtype'].append(dtype)\n",
    "    if dtype == 'object':\n",
    "        cols_to_convert.append(col)\n",
    "\n",
    "pd.DataFrame(dtypes)"
   ]
  },
  {
   "cell_type": "code",
   "execution_count": 6,
   "id": "0eca21e9-25b3-4b2b-9e08-b025c664af2c",
   "metadata": {
    "tags": []
   },
   "outputs": [
    {
     "data": {
      "text/plain": [
       "['greenhous temperature celsius',\n",
       " 'greenhouse humidity percentage',\n",
       " 'greenhouse illuminance lux',\n",
       " 'online temperature celsius',\n",
       " 'greenhouse total volatile organic compounds ppb',\n",
       " 'greenhouse equivalent co2 ppm']"
      ]
     },
     "execution_count": 6,
     "metadata": {},
     "output_type": "execute_result"
    }
   ],
   "source": [
    "cols_to_convert"
   ]
  },
  {
   "cell_type": "code",
   "execution_count": 7,
   "id": "c5c98084-96a3-4466-b3bd-aa9c36f3a2a2",
   "metadata": {
    "tags": []
   },
   "outputs": [],
   "source": [
    "for col in cols_to_convert:\n",
    "    data[col] = data[col].astype(float)"
   ]
  },
  {
   "cell_type": "code",
   "execution_count": 8,
   "id": "9bc20c14-cf8f-4a20-a9d9-9d7e6719d730",
   "metadata": {
    "tags": []
   },
   "outputs": [
    {
     "data": {
      "text/html": [
       "<div>\n",
       "<style scoped>\n",
       "    .dataframe tbody tr th:only-of-type {\n",
       "        vertical-align: middle;\n",
       "    }\n",
       "\n",
       "    .dataframe tbody tr th {\n",
       "        vertical-align: top;\n",
       "    }\n",
       "\n",
       "    .dataframe thead th {\n",
       "        text-align: right;\n",
       "    }\n",
       "</style>\n",
       "<table border=\"1\" class=\"dataframe\">\n",
       "  <thead>\n",
       "    <tr style=\"text-align: right;\">\n",
       "      <th></th>\n",
       "      <th>id</th>\n",
       "      <th>greenhous temperature celsius</th>\n",
       "      <th>greenhouse humidity percentage</th>\n",
       "      <th>greenhouse illuminance lux</th>\n",
       "      <th>online temperature celsius</th>\n",
       "      <th>online humidity percentage</th>\n",
       "      <th>greenhouse total volatile organic compounds ppb</th>\n",
       "      <th>greenhouse equivalent co2 ppm</th>\n",
       "      <th>datetime</th>\n",
       "    </tr>\n",
       "  </thead>\n",
       "  <tbody>\n",
       "    <tr>\n",
       "      <th>count</th>\n",
       "      <td>1.756200e+04</td>\n",
       "      <td>17164.000000</td>\n",
       "      <td>17164.000000</td>\n",
       "      <td>17164.000000</td>\n",
       "      <td>17556.000000</td>\n",
       "      <td>17556.000000</td>\n",
       "      <td>17164.000000</td>\n",
       "      <td>17164.000000</td>\n",
       "      <td>17562</td>\n",
       "    </tr>\n",
       "    <tr>\n",
       "      <th>mean</th>\n",
       "      <td>7.872994e+05</td>\n",
       "      <td>25.874693</td>\n",
       "      <td>52.910666</td>\n",
       "      <td>3722.243705</td>\n",
       "      <td>11.051823</td>\n",
       "      <td>73.819606</td>\n",
       "      <td>979.560729</td>\n",
       "      <td>1219.092382</td>\n",
       "      <td>2021-05-03 20:23:09.078692608</td>\n",
       "    </tr>\n",
       "    <tr>\n",
       "      <th>min</th>\n",
       "      <td>3.614960e+05</td>\n",
       "      <td>4.972237</td>\n",
       "      <td>15.313954</td>\n",
       "      <td>0.000000</td>\n",
       "      <td>-4.900000</td>\n",
       "      <td>18.000000</td>\n",
       "      <td>0.000000</td>\n",
       "      <td>400.000000</td>\n",
       "      <td>2021-03-03 20:10:04</td>\n",
       "    </tr>\n",
       "    <tr>\n",
       "      <th>25%</th>\n",
       "      <td>5.829370e+05</td>\n",
       "      <td>14.951478</td>\n",
       "      <td>45.488623</td>\n",
       "      <td>0.000000</td>\n",
       "      <td>5.900000</td>\n",
       "      <td>60.000000</td>\n",
       "      <td>463.500000</td>\n",
       "      <td>424.000000</td>\n",
       "      <td>2021-04-03 08:52:34.500000</td>\n",
       "    </tr>\n",
       "    <tr>\n",
       "      <th>50%</th>\n",
       "      <td>7.870225e+05</td>\n",
       "      <td>24.121462</td>\n",
       "      <td>55.613870</td>\n",
       "      <td>901.327778</td>\n",
       "      <td>10.300000</td>\n",
       "      <td>77.000000</td>\n",
       "      <td>631.222222</td>\n",
       "      <td>985.950000</td>\n",
       "      <td>2021-05-03 20:35:09</td>\n",
       "    </tr>\n",
       "    <tr>\n",
       "      <th>75%</th>\n",
       "      <td>9.943175e+05</td>\n",
       "      <td>31.744516</td>\n",
       "      <td>63.771343</td>\n",
       "      <td>5239.600000</td>\n",
       "      <td>15.400000</td>\n",
       "      <td>89.000000</td>\n",
       "      <td>1161.825000</td>\n",
       "      <td>1385.925000</td>\n",
       "      <td>2021-06-03 08:17:32</td>\n",
       "    </tr>\n",
       "    <tr>\n",
       "      <th>max</th>\n",
       "      <td>1.206788e+06</td>\n",
       "      <td>77.566312</td>\n",
       "      <td>82.900305</td>\n",
       "      <td>36489.333333</td>\n",
       "      <td>32.299999</td>\n",
       "      <td>100.000000</td>\n",
       "      <td>13114.100000</td>\n",
       "      <td>18113.400000</td>\n",
       "      <td>2021-07-03 20:00:11</td>\n",
       "    </tr>\n",
       "    <tr>\n",
       "      <th>std</th>\n",
       "      <td>2.431257e+05</td>\n",
       "      <td>13.038214</td>\n",
       "      <td>13.079384</td>\n",
       "      <td>5738.124414</td>\n",
       "      <td>6.709216</td>\n",
       "      <td>17.846849</td>\n",
       "      <td>1058.758275</td>\n",
       "      <td>1234.655687</td>\n",
       "      <td>NaN</td>\n",
       "    </tr>\n",
       "  </tbody>\n",
       "</table>\n",
       "</div>"
      ],
      "text/plain": [
       "                 id  greenhous temperature celsius  \\\n",
       "count  1.756200e+04                   17164.000000   \n",
       "mean   7.872994e+05                      25.874693   \n",
       "min    3.614960e+05                       4.972237   \n",
       "25%    5.829370e+05                      14.951478   \n",
       "50%    7.870225e+05                      24.121462   \n",
       "75%    9.943175e+05                      31.744516   \n",
       "max    1.206788e+06                      77.566312   \n",
       "std    2.431257e+05                      13.038214   \n",
       "\n",
       "       greenhouse humidity percentage  greenhouse illuminance lux  \\\n",
       "count                    17164.000000                17164.000000   \n",
       "mean                        52.910666                 3722.243705   \n",
       "min                         15.313954                    0.000000   \n",
       "25%                         45.488623                    0.000000   \n",
       "50%                         55.613870                  901.327778   \n",
       "75%                         63.771343                 5239.600000   \n",
       "max                         82.900305                36489.333333   \n",
       "std                         13.079384                 5738.124414   \n",
       "\n",
       "       online temperature celsius  online humidity percentage  \\\n",
       "count                17556.000000                17556.000000   \n",
       "mean                    11.051823                   73.819606   \n",
       "min                     -4.900000                   18.000000   \n",
       "25%                      5.900000                   60.000000   \n",
       "50%                     10.300000                   77.000000   \n",
       "75%                     15.400000                   89.000000   \n",
       "max                     32.299999                  100.000000   \n",
       "std                      6.709216                   17.846849   \n",
       "\n",
       "       greenhouse total volatile organic compounds ppb  \\\n",
       "count                                     17164.000000   \n",
       "mean                                        979.560729   \n",
       "min                                           0.000000   \n",
       "25%                                         463.500000   \n",
       "50%                                         631.222222   \n",
       "75%                                        1161.825000   \n",
       "max                                       13114.100000   \n",
       "std                                        1058.758275   \n",
       "\n",
       "       greenhouse equivalent co2 ppm                       datetime  \n",
       "count                   17164.000000                          17562  \n",
       "mean                     1219.092382  2021-05-03 20:23:09.078692608  \n",
       "min                       400.000000            2021-03-03 20:10:04  \n",
       "25%                       424.000000     2021-04-03 08:52:34.500000  \n",
       "50%                       985.950000            2021-05-03 20:35:09  \n",
       "75%                      1385.925000            2021-06-03 08:17:32  \n",
       "max                     18113.400000            2021-07-03 20:00:11  \n",
       "std                      1234.655687                            NaN  "
      ]
     },
     "execution_count": 8,
     "metadata": {},
     "output_type": "execute_result"
    }
   ],
   "source": [
    "data.describe()"
   ]
  },
  {
   "cell_type": "code",
   "execution_count": 9,
   "id": "a337090d-f0cf-433d-96b6-7766f315a0df",
   "metadata": {
    "tags": []
   },
   "outputs": [],
   "source": [
    "data.to_csv('./data/sample_greenhouse_data_clean.csv')"
   ]
  },
  {
   "cell_type": "code",
   "execution_count": 10,
   "id": "7ff99567-3d22-4af6-b6dc-b17147ec4a9b",
   "metadata": {
    "tags": []
   },
   "outputs": [
    {
     "data": {
      "text/plain": [
       "Index(['id', 'greenhous temperature celsius', 'greenhouse humidity percentage',\n",
       "       'greenhouse illuminance lux', 'online temperature celsius',\n",
       "       'online humidity percentage',\n",
       "       'greenhouse total volatile organic compounds ppb',\n",
       "       'greenhouse equivalent co2 ppm', 'datetime'],\n",
       "      dtype='object')"
      ]
     },
     "execution_count": 10,
     "metadata": {},
     "output_type": "execute_result"
    }
   ],
   "source": [
    "data.columns"
   ]
  },
  {
   "cell_type": "code",
   "execution_count": null,
   "id": "6194534e-f541-4cd7-9528-48c10e2dc5e4",
   "metadata": {},
   "outputs": [],
   "source": []
  }
 ],
 "metadata": {
  "kernelspec": {
   "display_name": "sensordash",
   "language": "python",
   "name": "sensordash"
  },
  "language_info": {
   "codemirror_mode": {
    "name": "ipython",
    "version": 3
   },
   "file_extension": ".py",
   "mimetype": "text/x-python",
   "name": "python",
   "nbconvert_exporter": "python",
   "pygments_lexer": "ipython3",
   "version": "3.12.1"
  }
 },
 "nbformat": 4,
 "nbformat_minor": 5
}

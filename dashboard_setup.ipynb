{
 "cells": [
  {
   "cell_type": "markdown",
   "id": "dbfa2143-d02a-476c-93e6-c302ec1c8259",
   "metadata": {},
   "source": [
    "# GROW ROOM DASHBOARD"
   ]
  },
  {
   "cell_type": "code",
   "execution_count": 13,
   "id": "c2f60223-7b4c-4310-ba97-9d763d54c86f",
   "metadata": {
    "tags": []
   },
   "outputs": [],
   "source": [
    "import pandas as pd\n",
    "\n",
    "from dash import Dash, html"
   ]
  },
  {
   "cell_type": "code",
   "execution_count": 20,
   "id": "ff19ba0c-0d10-49bd-b384-671750864d8b",
   "metadata": {},
   "outputs": [],
   "source": [
    "path = './data'\n",
    "data = pd.read_csv(f'{path}/sample_greenhouse_data.csv', sep=';')"
   ]
  },
  {
   "cell_type": "code",
   "execution_count": 21,
   "id": "aed82799-57e7-4a6b-ade0-680e1d4b939c",
   "metadata": {
    "tags": []
   },
   "outputs": [
    {
     "data": {
      "text/html": [
       "<div>\n",
       "<style scoped>\n",
       "    .dataframe tbody tr th:only-of-type {\n",
       "        vertical-align: middle;\n",
       "    }\n",
       "\n",
       "    .dataframe tbody tr th {\n",
       "        vertical-align: top;\n",
       "    }\n",
       "\n",
       "    .dataframe thead th {\n",
       "        text-align: right;\n",
       "    }\n",
       "</style>\n",
       "<table border=\"1\" class=\"dataframe\">\n",
       "  <thead>\n",
       "    <tr style=\"text-align: right;\">\n",
       "      <th></th>\n",
       "      <th>id</th>\n",
       "      <th>greenhous_temperature_celsius</th>\n",
       "      <th>greenhouse_humidity_percentage</th>\n",
       "      <th>greenhouse_illuminance_lux</th>\n",
       "      <th>online_temperature_celsius</th>\n",
       "      <th>online_humidity_percentage</th>\n",
       "      <th>greenhouse_total_volatile_organic_compounds_ppb</th>\n",
       "      <th>greenhouse_equivalent_co2_ppm</th>\n",
       "      <th>created</th>\n",
       "    </tr>\n",
       "  </thead>\n",
       "  <tbody>\n",
       "    <tr>\n",
       "      <th>0</th>\n",
       "      <td>361496</td>\n",
       "      <td>13,22325653500027</td>\n",
       "      <td>68,05557590060764</td>\n",
       "      <td>0</td>\n",
       "      <td>7,300000190734863</td>\n",
       "      <td>89.0</td>\n",
       "      <td>370</td>\n",
       "      <td>1080,4444444444443</td>\n",
       "      <td>2021-03-03 20:10:04</td>\n",
       "    </tr>\n",
       "  </tbody>\n",
       "</table>\n",
       "</div>"
      ],
      "text/plain": [
       "       id greenhous_temperature_celsius greenhouse_humidity_percentage  \\\n",
       "0  361496             13,22325653500027              68,05557590060764   \n",
       "\n",
       "  greenhouse_illuminance_lux online_temperature_celsius  \\\n",
       "0                          0          7,300000190734863   \n",
       "\n",
       "   online_humidity_percentage greenhouse_total_volatile_organic_compounds_ppb  \\\n",
       "0                        89.0                                             370   \n",
       "\n",
       "  greenhouse_equivalent_co2_ppm              created  \n",
       "0            1080,4444444444443  2021-03-03 20:10:04  "
      ]
     },
     "execution_count": 21,
     "metadata": {},
     "output_type": "execute_result"
    }
   ],
   "source": [
    "data.head(1)"
   ]
  },
  {
   "cell_type": "code",
   "execution_count": 22,
   "id": "2bde79b4-6791-42b8-8a4d-2de8a7fcee50",
   "metadata": {
    "tags": []
   },
   "outputs": [
    {
     "data": {
      "text/html": [
       "<div>\n",
       "<style scoped>\n",
       "    .dataframe tbody tr th:only-of-type {\n",
       "        vertical-align: middle;\n",
       "    }\n",
       "\n",
       "    .dataframe tbody tr th {\n",
       "        vertical-align: top;\n",
       "    }\n",
       "\n",
       "    .dataframe thead th {\n",
       "        text-align: right;\n",
       "    }\n",
       "</style>\n",
       "<table border=\"1\" class=\"dataframe\">\n",
       "  <thead>\n",
       "    <tr style=\"text-align: right;\">\n",
       "      <th></th>\n",
       "      <th>id</th>\n",
       "      <th>online_humidity_percentage</th>\n",
       "    </tr>\n",
       "  </thead>\n",
       "  <tbody>\n",
       "    <tr>\n",
       "      <th>count</th>\n",
       "      <td>1.756200e+04</td>\n",
       "      <td>17556.000000</td>\n",
       "    </tr>\n",
       "    <tr>\n",
       "      <th>mean</th>\n",
       "      <td>7.872994e+05</td>\n",
       "      <td>73.819606</td>\n",
       "    </tr>\n",
       "    <tr>\n",
       "      <th>std</th>\n",
       "      <td>2.431257e+05</td>\n",
       "      <td>17.846849</td>\n",
       "    </tr>\n",
       "    <tr>\n",
       "      <th>min</th>\n",
       "      <td>3.614960e+05</td>\n",
       "      <td>18.000000</td>\n",
       "    </tr>\n",
       "    <tr>\n",
       "      <th>25%</th>\n",
       "      <td>5.829370e+05</td>\n",
       "      <td>60.000000</td>\n",
       "    </tr>\n",
       "    <tr>\n",
       "      <th>50%</th>\n",
       "      <td>7.870225e+05</td>\n",
       "      <td>77.000000</td>\n",
       "    </tr>\n",
       "    <tr>\n",
       "      <th>75%</th>\n",
       "      <td>9.943175e+05</td>\n",
       "      <td>89.000000</td>\n",
       "    </tr>\n",
       "    <tr>\n",
       "      <th>max</th>\n",
       "      <td>1.206788e+06</td>\n",
       "      <td>100.000000</td>\n",
       "    </tr>\n",
       "  </tbody>\n",
       "</table>\n",
       "</div>"
      ],
      "text/plain": [
       "                 id  online_humidity_percentage\n",
       "count  1.756200e+04                17556.000000\n",
       "mean   7.872994e+05                   73.819606\n",
       "std    2.431257e+05                   17.846849\n",
       "min    3.614960e+05                   18.000000\n",
       "25%    5.829370e+05                   60.000000\n",
       "50%    7.870225e+05                   77.000000\n",
       "75%    9.943175e+05                   89.000000\n",
       "max    1.206788e+06                  100.000000"
      ]
     },
     "execution_count": 22,
     "metadata": {},
     "output_type": "execute_result"
    }
   ],
   "source": [
    "data.describe()"
   ]
  },
  {
   "cell_type": "code",
   "execution_count": 16,
   "id": "e2190e80-2455-4e5e-b5ca-ad02fcdd115c",
   "metadata": {
    "tags": []
   },
   "outputs": [],
   "source": [
    "app = Dash(\"GROW ROOM\")\n",
    "\n",
    "app.layout = html.Div([\n",
    "    html.Div(children='Hello World')\n",
    "])"
   ]
  },
  {
   "cell_type": "code",
   "execution_count": 17,
   "id": "3235c068-f7b9-4e7a-b5a4-e551609469b9",
   "metadata": {
    "tags": []
   },
   "outputs": [
    {
     "data": {
      "text/plain": [
       "<dash.dash.Dash at 0x7f3a1fe6ede0>"
      ]
     },
     "execution_count": 17,
     "metadata": {},
     "output_type": "execute_result"
    }
   ],
   "source": [
    "app"
   ]
  },
  {
   "cell_type": "code",
   "execution_count": null,
   "id": "39ccee52-99d5-4e0a-9027-f4002a07e99c",
   "metadata": {},
   "outputs": [],
   "source": []
  }
 ],
 "metadata": {
  "kernelspec": {
   "display_name": "sensordash",
   "language": "python",
   "name": "sensordash"
  },
  "language_info": {
   "codemirror_mode": {
    "name": "ipython",
    "version": 3
   },
   "file_extension": ".py",
   "mimetype": "text/x-python",
   "name": "python",
   "nbconvert_exporter": "python",
   "pygments_lexer": "ipython3",
   "version": "3.12.1"
  }
 },
 "nbformat": 4,
 "nbformat_minor": 5
}
